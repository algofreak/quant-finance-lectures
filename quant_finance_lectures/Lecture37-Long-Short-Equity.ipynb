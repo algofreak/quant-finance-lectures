{
 "cells": [
  {
   "cell_type": "markdown",
   "metadata": {},
   "source": [
    "<a href=\"https://www.quantrocket.com\"><img alt=\"QuantRocket logo\" src=\"https://www.quantrocket.com/assets/img/notebook-header-logo.png\"></a>\n",
    "\n",
    "© Copyright Quantopian Inc.<br>\n",
    "© Modifications Copyright QuantRocket LLC<br>\n",
    "Licensed under the [Creative Commons Attribution 4.0](https://creativecommons.org/licenses/by/4.0/legalcode).<br>\n",
    "<a href=\"https://www.quantrocket.com/disclaimer/\">Disclaimer</a>"
   ]
  },
  {
   "cell_type": "markdown",
   "metadata": {},
   "source": [
    "***\n",
    "[Quant Finance Lectures (adapted Quantopian Lectures)](Introduction.ipynb) › Lecture 37 - Long-Short Equity\n",
    "***"
   ]
  },
  {
   "cell_type": "markdown",
   "metadata": {},
   "source": [
    "# Long-Short Equity Strategies\n",
    "\n",
    "By Delaney Granizo-Mackenzie"
   ]
  },
  {
   "cell_type": "markdown",
   "metadata": {},
   "source": [
    "Long-short equity refers to the fact that the strategy is both long and short in the equity market. This is a rather general statement, but has over time grown to mean a specific family of strategies. These strategies rank all stocks in the market using some model. The strategy then goes long (buys) the top $n$ equities of the ranking, and goes short on (sells) the bottom $n$ while maintaining equal dollar volume between the long and short positions. This has the advantage of being statistically robust, as by ranking stocks and entering hundreds or thousands of positions, you are making many bets on your ranking model rather than just a few risky bets. You are also betting purely on the quality of your ranking scheme, as the equal dollar volume long and short positions ensure that the strategy will remain market neutral (immune to market movements)."
   ]
  },
  {
   "cell_type": "markdown",
   "metadata": {},
   "source": [
    "## Ranking Scheme\n",
    "\n",
    "A ranking scheme is any model that can assign each stock a number, where higher is better or worse. Examples could be value factors, technical indicators, pricing models, or a combination of all of the above. Ranking schemes are the secret sauce of any long-short equity strategy, so developing them is nontrivial."
   ]
  },
  {
   "cell_type": "markdown",
   "metadata": {},
   "source": [
    "## Making a Bet on the Ranking Scheme\n",
    "\n",
    "Once we have determined a ranking scheme, we would like to be able to profit from it. We do this by investing an equal amount of money long into the top of the ranking, and short into the bottom. This ensures that the strategy will make money proportionally to the quality of the ranking only, and will be market neutral."
   ]
  },
  {
   "cell_type": "markdown",
   "metadata": {},
   "source": [
    "## Long and Short Baskets\n",
    "\n",
    "If you are ranking $m$ equities, have $d$ dollars to invest, and your total target number of positions to hold is $2n$, then the long and short baskets are created as follows. For each equity in spots $1, \\dots, n$ in the ranking, sell $\\frac{1}{2n} * d$ dollars of that equity. For each equity in spots $m - n, \\dots, m$ in the ranking, buy $\\frac{1}{2n} * d$ dollars of that equity. "
   ]
  },
  {
   "cell_type": "markdown",
   "metadata": {},
   "source": [
    "## Friction Because of Prices\n",
    "\n",
    "Because equity prices will not always divide $\\frac{1}{2n} * d$ evenly, and equities must be bought in integer amounts, there will be some imprecision and the algorithm should get as close as it can to this number. Most algorithms will have access to some leverage during execution, so it is fine to buy slightly more than $\\frac{1}{2n} * d$ dollars per equity. This does, however, cause some friction at low capital amounts. For a strategy running $d = 100000$, and $n = 500$, we see that \n",
    "$$\\frac{1}{2n} * d = \\frac{1}{1000} * 100000 = 100$$\n",
    "This will cause big problems for expensive equities, and cause the algorithm to be overlevered. This is alleviated by trading fewer equities or increasing the capital, $d$. Luckily, long-short equity strategies tend to be very high capacity, so there is for most purposes no ceiling on the amount of money one can invest."
   ]
  },
  {
   "cell_type": "markdown",
   "metadata": {},
   "source": [
    "## Returns Come From The Ranking Spread\n",
    "\n",
    "The returns of a long-short equity strategy are dependent on how well the ranking spreads out the high and low returns. To see how this works, consider this hypothetical example."
   ]
  },
  {
   "cell_type": "code",
   "execution_count": 1,
   "metadata": {},
   "outputs": [],
   "source": [
    "import numpy as np\n",
    "import pandas as pd\n",
    "import matplotlib.pyplot as plt"
   ]
  },
  {
   "cell_type": "code",
   "execution_count": 2,
   "metadata": {
    "collapsed": false,
    "jupyter": {
     "outputs_hidden": false
    }
   },
   "outputs": [
    {
     "data": {
      "text/html": [
       "<div>\n",
       "<style scoped>\n",
       "    .dataframe tbody tr th:only-of-type {\n",
       "        vertical-align: middle;\n",
       "    }\n",
       "\n",
       "    .dataframe tbody tr th {\n",
       "        vertical-align: top;\n",
       "    }\n",
       "\n",
       "    .dataframe thead th {\n",
       "        text-align: right;\n",
       "    }\n",
       "</style>\n",
       "<table border=\"1\" class=\"dataframe\">\n",
       "  <thead>\n",
       "    <tr style=\"text-align: right;\">\n",
       "      <th></th>\n",
       "      <th>Factor Value</th>\n",
       "    </tr>\n",
       "  </thead>\n",
       "  <tbody>\n",
       "    <tr>\n",
       "      <th>Equity 0</th>\n",
       "      <td>-0.351489</td>\n",
       "    </tr>\n",
       "    <tr>\n",
       "      <th>Equity 1</th>\n",
       "      <td>-0.195489</td>\n",
       "    </tr>\n",
       "    <tr>\n",
       "      <th>Equity 2</th>\n",
       "      <td>0.713817</td>\n",
       "    </tr>\n",
       "    <tr>\n",
       "      <th>Equity 3</th>\n",
       "      <td>1.151660</td>\n",
       "    </tr>\n",
       "    <tr>\n",
       "      <th>Equity 4</th>\n",
       "      <td>-1.649524</td>\n",
       "    </tr>\n",
       "    <tr>\n",
       "      <th>Equity 5</th>\n",
       "      <td>-0.287753</td>\n",
       "    </tr>\n",
       "    <tr>\n",
       "      <th>Equity 6</th>\n",
       "      <td>0.268810</td>\n",
       "    </tr>\n",
       "    <tr>\n",
       "      <th>Equity 7</th>\n",
       "      <td>0.533526</td>\n",
       "    </tr>\n",
       "    <tr>\n",
       "      <th>Equity 8</th>\n",
       "      <td>0.334075</td>\n",
       "    </tr>\n",
       "    <tr>\n",
       "      <th>Equity 9</th>\n",
       "      <td>0.284096</td>\n",
       "    </tr>\n",
       "  </tbody>\n",
       "</table>\n",
       "</div>"
      ],
      "text/plain": [
       "          Factor Value\n",
       "Equity 0     -0.351489\n",
       "Equity 1     -0.195489\n",
       "Equity 2      0.713817\n",
       "Equity 3      1.151660\n",
       "Equity 4     -1.649524\n",
       "Equity 5     -0.287753\n",
       "Equity 6      0.268810\n",
       "Equity 7      0.533526\n",
       "Equity 8      0.334075\n",
       "Equity 9      0.284096"
      ]
     },
     "execution_count": 2,
     "metadata": {},
     "output_type": "execute_result"
    }
   ],
   "source": [
    "# We'll generate a random factor\n",
    "current_factor_values = np.random.normal(0, 1, 10000)\n",
    "equity_names = ['Equity ' + str(x) for x in range(10000)]\n",
    "# Put it into a dataframe\n",
    "factor_data = pd.Series(current_factor_values, index = equity_names)\n",
    "factor_data = pd.DataFrame(factor_data, columns=['Factor Value'])\n",
    "# Take a look at the dataframe\n",
    "factor_data.head(10)"
   ]
  },
  {
   "cell_type": "code",
   "execution_count": 3,
   "metadata": {
    "collapsed": false,
    "jupyter": {
     "outputs_hidden": false
    }
   },
   "outputs": [
    {
     "data": {
      "text/html": [
       "<div>\n",
       "<style scoped>\n",
       "    .dataframe tbody tr th:only-of-type {\n",
       "        vertical-align: middle;\n",
       "    }\n",
       "\n",
       "    .dataframe tbody tr th {\n",
       "        vertical-align: top;\n",
       "    }\n",
       "\n",
       "    .dataframe thead th {\n",
       "        text-align: right;\n",
       "    }\n",
       "</style>\n",
       "<table border=\"1\" class=\"dataframe\">\n",
       "  <thead>\n",
       "    <tr style=\"text-align: right;\">\n",
       "      <th></th>\n",
       "      <th>Returns</th>\n",
       "      <th>Factor Value</th>\n",
       "    </tr>\n",
       "  </thead>\n",
       "  <tbody>\n",
       "    <tr>\n",
       "      <th>Equity 0</th>\n",
       "      <td>-1.450611</td>\n",
       "      <td>-0.351489</td>\n",
       "    </tr>\n",
       "    <tr>\n",
       "      <th>Equity 1</th>\n",
       "      <td>-1.082460</td>\n",
       "      <td>-0.195489</td>\n",
       "    </tr>\n",
       "    <tr>\n",
       "      <th>Equity 2</th>\n",
       "      <td>-0.221156</td>\n",
       "      <td>0.713817</td>\n",
       "    </tr>\n",
       "    <tr>\n",
       "      <th>Equity 3</th>\n",
       "      <td>3.001095</td>\n",
       "      <td>1.151660</td>\n",
       "    </tr>\n",
       "    <tr>\n",
       "      <th>Equity 4</th>\n",
       "      <td>-1.281718</td>\n",
       "      <td>-1.649524</td>\n",
       "    </tr>\n",
       "    <tr>\n",
       "      <th>Equity 5</th>\n",
       "      <td>-0.521036</td>\n",
       "      <td>-0.287753</td>\n",
       "    </tr>\n",
       "    <tr>\n",
       "      <th>Equity 6</th>\n",
       "      <td>1.231022</td>\n",
       "      <td>0.268810</td>\n",
       "    </tr>\n",
       "    <tr>\n",
       "      <th>Equity 7</th>\n",
       "      <td>0.636187</td>\n",
       "      <td>0.533526</td>\n",
       "    </tr>\n",
       "    <tr>\n",
       "      <th>Equity 8</th>\n",
       "      <td>1.610588</td>\n",
       "      <td>0.334075</td>\n",
       "    </tr>\n",
       "    <tr>\n",
       "      <th>Equity 9</th>\n",
       "      <td>0.078225</td>\n",
       "      <td>0.284096</td>\n",
       "    </tr>\n",
       "  </tbody>\n",
       "</table>\n",
       "</div>"
      ],
      "text/plain": [
       "           Returns  Factor Value\n",
       "Equity 0 -1.450611     -0.351489\n",
       "Equity 1 -1.082460     -0.195489\n",
       "Equity 2 -0.221156      0.713817\n",
       "Equity 3  3.001095      1.151660\n",
       "Equity 4 -1.281718     -1.649524\n",
       "Equity 5 -0.521036     -0.287753\n",
       "Equity 6  1.231022      0.268810\n",
       "Equity 7  0.636187      0.533526\n",
       "Equity 8  1.610588      0.334075\n",
       "Equity 9  0.078225      0.284096"
      ]
     },
     "execution_count": 3,
     "metadata": {},
     "output_type": "execute_result"
    }
   ],
   "source": [
    "# Now let's say our future returns are dependent on our factor values\n",
    "future_returns = current_factor_values + np.random.normal(0, 1, 10000)\n",
    "\n",
    "returns_data = pd.Series(future_returns, index=equity_names)\n",
    "returns_data = pd.DataFrame(returns_data, columns=['Returns'])\n",
    "# Put both the factor values and returns into one dataframe\n",
    "data = returns_data.join(factor_data)\n",
    "# Take a look\n",
    "data.head(10)"
   ]
  },
  {
   "cell_type": "markdown",
   "metadata": {},
   "source": [
    "Now that we have factor values and returns, we can see what would happen if we ranked our equities based on factor values, and then entered the long and short positions."
   ]
  },
  {
   "cell_type": "code",
   "execution_count": 4,
   "metadata": {
    "collapsed": false,
    "jupyter": {
     "outputs_hidden": false
    }
   },
   "outputs": [
    {
     "data": {
      "image/png": "[encoded data removed]",
      "text/plain": [
       "<Figure size 1152x432 with 1 Axes>"
      ]
     },
     "metadata": {},
     "output_type": "display_data"
    }
   ],
   "source": [
    "# Rank the equities\n",
    "ranked_data = data.sort_values('Factor Value')\n",
    "\n",
    "# Compute the returns of each basket\n",
    "# Baskets of size 500, so we create an empty array of shape (10000/500)\n",
    "number_of_baskets = 10000//500\n",
    "basket_returns = np.zeros(number_of_baskets)\n",
    "\n",
    "for i in range(number_of_baskets):\n",
    "    start = i * 500\n",
    "    end = i * 500 + 500 \n",
    "    basket_returns[i] = ranked_data[start:end]['Returns'].mean()\n",
    "\n",
    "# Plot the returns of each basket\n",
    "plt.bar(range(number_of_baskets), basket_returns)\n",
    "plt.ylabel('Returns')\n",
    "plt.xlabel('Basket')\n",
    "plt.legend(['Returns of Each Basket']);"
   ]
  },
  {
   "cell_type": "markdown",
   "metadata": {},
   "source": [
    "Let's compute the returns if we go long the top basket and short the bottom basket."
   ]
  },
  {
   "cell_type": "code",
   "execution_count": 5,
   "metadata": {
    "collapsed": false,
    "jupyter": {
     "outputs_hidden": false
    }
   },
   "outputs": [
    {
     "data": {
      "text/plain": [
       "4.000532530068508"
      ]
     },
     "execution_count": 5,
     "metadata": {},
     "output_type": "execute_result"
    }
   ],
   "source": [
    "basket_returns[number_of_baskets-1] - basket_returns[0]"
   ]
  },
  {
   "cell_type": "markdown",
   "metadata": {},
   "source": [
    "## Market Neutrality is Built-In\n",
    "\n",
    "The nice thing about making money based on the spread of the ranking is that it is unaffected by what the market does."
   ]
  },
  {
   "cell_type": "code",
   "execution_count": 6,
   "metadata": {
    "collapsed": false,
    "jupyter": {
     "outputs_hidden": false
    }
   },
   "outputs": [
    {
     "data": {
      "text/plain": [
       "4.170357931065307"
      ]
     },
     "execution_count": 6,
     "metadata": {},
     "output_type": "execute_result"
    }
   ],
   "source": [
    "# We'll generate a random factor\n",
    "current_factor_values = np.random.normal(0, 1, 10000)\n",
    "equity_names = ['Equity ' + str(x) for x in range(10000)]\n",
    "# Put it into a dataframe\n",
    "factor_data = pd.Series(current_factor_values, index = equity_names)\n",
    "factor_data = pd.DataFrame(factor_data, columns=['Factor Value'])\n",
    "\n",
    "# Now let's say our future returns are dependent on our factor values\n",
    "future_returns = -10 + current_factor_values + np.random.normal(0, 1, 10000)\n",
    "\n",
    "returns_data = pd.Series(future_returns, index=equity_names)\n",
    "returns_data = pd.DataFrame(returns_data, columns=['Returns'])\n",
    "# Put both the factor values and returns into one dataframe\n",
    "data = returns_data.join(factor_data)\n",
    "\n",
    "# Rank the equities\n",
    "ranked_data = data.sort_values('Factor Value')\n",
    "\n",
    "# Compute the returns of each basket\n",
    "# Baskets of size 500, so we create an empty array of shape (10000/500\n",
    "number_of_baskets = 10000//500\n",
    "basket_returns = np.zeros(number_of_baskets)\n",
    "\n",
    "for i in range(number_of_baskets):\n",
    "    start = i * 500\n",
    "    end = i * 500 + 500 \n",
    "    basket_returns[i] = ranked_data[start:end]['Returns'].mean()\n",
    "\n",
    "basket_returns[number_of_baskets-1] - basket_returns[0]"
   ]
  },
  {
   "cell_type": "markdown",
   "metadata": {},
   "source": [
    "## Choice and Evaluation of a Ranking Scheme\n",
    "\n",
    "The ranking scheme is where a long-short equity strategy gets its edge, and is the most crucial component. Choosing a good ranking scheme is the entire trick, and there is no easy answer. A good starting point is to pick existing known techniques, and see if you can modify them slightly to get increased returns. More information on ranking scheme construction can be found in the notebooks listed below.\n",
    "\n",
    "During research of your ranking scheme, it's important to determine whether or not your ranking scheme is actually predictive of future returns. This can be accomplished with spearman rank correlation\n",
    "\n",
    "Information on construction and evaluation of ranking schemes is available in the following lectures:\n",
    "\n",
    "* Universe Selection\n",
    "* Spearman Rank Correlation\n",
    "* Factor Analysis with Alphalens"
   ]
  },
  {
   "cell_type": "markdown",
   "metadata": {},
   "source": [
    "## Long-Short is a Modular Strategy\n",
    "\n",
    "To execute a long-short equity strategy, you effectively only have to determine the ranking scheme. Everything after that is mechanical. Once you have one long-short equity strategy, you can swap in different ranking schemes and leave everything else in place. It's a very convenient way to quickly iterate over ideas you have without having to worry about tweaking code every time.\n",
    "\n",
    "The ranking schemes can come from pretty much any model as well. It doesn't have to be a value based factor model, it could be a machine learning technique that predicted returns one-month ahead and ranked based on that."
   ]
  },
  {
   "cell_type": "markdown",
   "metadata": {},
   "source": [
    "## Rebalancing Frequency\n",
    "\n",
    "Every ranking system will be predictive of returns over a slightly different timeframe. A price-based mean reversion may be predictive over a few days, while a value-based factor model may be predictive over many months. It is important to determine the timeframe over which your model should be predictive, and statistically verify that before executing your strategy. You do not want to overfit by trying to optimize the relabancing frequency, as you will inevitably find one that is randomly better than others, but not necessarily because of anything in your model.\n",
    "\n",
    "Once you have determined the timeframe on which your ranking scheme is predictive, try to rebalance at about that frequency so you're taking full advantage of your models."
   ]
  },
  {
   "cell_type": "markdown",
   "metadata": {},
   "source": [
    "## Transaction Costs\n",
    "\n",
    "Trading many equities will result in high transaction costs. Say that you want to purchase $1000$ equities, you will incur thousands of dollars of costs per rebalance. Your capital base must be high enough that the transaction costs are a small percentage of the returns being generated by your strategy. Say that you are running $100,000$ dollars and making $1\\%$ per month, then the $1000$ dollars of transaction fees per month would take up your all of returns. You would need to be running the strategy on millions of dollars for it to be profitable over $1000$ equities.\n",
    "\n",
    "The minimum capacity is quite high as such, and dependent largely on the number of equities traded. However, the maximum capacity is also incredibly high, with long-short equity strategies capable of trading hundreds of millions of dollars without losing their edge. This is true because the strategy rebalances relatively infrequently, and the total dollar volume is divided by the number of equities traded. So if you turn over your entire portfolio of $100,000,000$ every month while running 1000 equities, you are only running $100,000$ dollar-volume per month through each equity, which isn't enough to be a significant market share for most securities."
   ]
  },
  {
   "cell_type": "markdown",
   "metadata": {},
   "source": [
    "---\n",
    "\n",
    "**Next Lecture:** [Factor Analysis with Alphalens](Lecture38-Factor-Analysis-with-Alphalens.ipynb) \n",
    "\n",
    "[Back to Introduction](Introduction.ipynb) "
   ]
  },
  {
   "cell_type": "markdown",
   "metadata": {},
   "source": [
    "---\n",
    "\n",
    "*This presentation is for informational purposes only and does not constitute an offer to sell, a solicitation to buy, or a recommendation for any security; nor does it constitute an offer to provide investment advisory or other services by QuantRocket LLC (\"QuantRocket\"). Nothing contained herein constitutes investment advice or offers any opinion with respect to the suitability of any security, and any views expressed herein should not be taken as advice to buy, sell, or hold any security or as an endorsement of any security or company.  In preparing the information contained herein, the authors have not taken into account the investment needs, objectives, and financial circumstances of any particular investor. Any views expressed and data illustrated herein were prepared based upon information believed to be reliable at the time of publication. QuantRocket makes no guarantees as to their accuracy or completeness. All information is subject to change and may quickly become unreliable for various reasons, including changes in market conditions or economic circumstances.*"
   ]
  }
 ],
 "metadata": {
  "kernelspec": {
   "display_name": "Python 3.11",
   "language": "python",
   "name": "python3"
  },
  "language_info": {
   "codemirror_mode": {
    "name": "ipython",
    "version": 3
   },
   "file_extension": ".py",
   "mimetype": "text/x-python",
   "name": "python",
   "nbconvert_exporter": "python",
   "pygments_lexer": "ipython3",
   "version": "3.11.0"
  }
 },
 "nbformat": 4,
 "nbformat_minor": 4
}
