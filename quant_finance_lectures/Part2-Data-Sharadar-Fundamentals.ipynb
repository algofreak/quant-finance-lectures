{
 "cells": [
  {
   "cell_type": "markdown",
   "metadata": {},
   "source": [
    "<a href=\"https://www.quantrocket.com\"><img alt=\"QuantRocket logo\" src=\"https://www.quantrocket.com/assets/img/notebook-header-logo.png\"></a><br>\n",
    "<a href=\"https://www.quantrocket.com/disclaimer/\">Disclaimer</a>"
   ]
  },
  {
   "cell_type": "markdown",
   "metadata": {},
   "source": [
    "***\n",
    "[Quant Finance Lectures (adapted Quantopian Lectures)](Introduction.ipynb) › Data Collection\n",
    "***"
   ]
  },
  {
   "cell_type": "markdown",
   "metadata": {},
   "source": [
    "# Collect Sharadar fundamentals\n",
    "\n",
    "Collect the full US fundamentals dataset from Sharadar by running the following function:"
   ]
  },
  {
   "cell_type": "code",
   "execution_count": 1,
   "metadata": {},
   "outputs": [
    {
     "data": {
      "text/plain": [
       "{'status': 'the fundamental data will be collected asynchronously'}"
      ]
     },
     "execution_count": 1,
     "metadata": {},
     "output_type": "execute_result"
    }
   ],
   "source": [
    "from quantrocket.fundamental import collect_sharadar_fundamentals\n",
    "collect_sharadar_fundamentals(country=\"US\")"
   ]
  },
  {
   "cell_type": "markdown",
   "metadata": {},
   "source": [
    "This runs in the background, monitor flightlog for a completion message:\n",
    "\n",
    "```\n",
    "quantrocket.fundamental: INFO Collecting Sharadar US fundamentals\n",
    "quantrocket.fundamental: INFO Collecting updated Sharadar US securities listings\n",
    "quantrocket.fundamental: INFO Finished collecting Sharadar US fundamentals\n",
    "```"
   ]
  },
  {
   "cell_type": "markdown",
   "metadata": {},
   "source": [
    "# Collect Sharadar bundle\n",
    "\n",
    "To collect daily prices from Sharadar, create the Sharadar bundle:"
   ]
  },
  {
   "cell_type": "code",
   "execution_count": 2,
   "metadata": {},
   "outputs": [
    {
     "data": {
      "text/plain": [
       "{'status': 'success', 'msg': 'successfully created sharadar-1d bundle'}"
      ]
     },
     "execution_count": 2,
     "metadata": {},
     "output_type": "execute_result"
    }
   ],
   "source": [
    "from quantrocket.zipline import create_sharadar_bundle\n",
    "create_sharadar_bundle(\"sharadar-1d\")"
   ]
  },
  {
   "cell_type": "markdown",
   "metadata": {},
   "source": [
    "Then ingest the data:"
   ]
  },
  {
   "cell_type": "code",
   "execution_count": 3,
   "metadata": {},
   "outputs": [
    {
     "data": {
      "text/plain": [
       "{'status': 'the data will be ingested asynchronously'}"
      ]
     },
     "execution_count": 3,
     "metadata": {},
     "output_type": "execute_result"
    }
   ],
   "source": [
    "from quantrocket.zipline import ingest_bundle\n",
    "ingest_bundle(\"sharadar-1d\")"
   ]
  },
  {
   "cell_type": "markdown",
   "metadata": {},
   "source": [
    "Monitor flightlog for a completion message:\n",
    "\n",
    "```\n",
    "quantrocket.zipline: INFO [sharadar-1d] Ingesting daily bars for sharadar-1d bundle\n",
    "quantrocket.zipline: INFO [sharadar-1d] Ingesting adjustments for sharadar-1d bundle\n",
    "quantrocket.zipline: INFO [sharadar-1d] Ingesting assets for sharadar-1d bundle\n",
    "quantrocket.zipline: INFO [sharadar-1d] Completed ingesting data for sharadar-1d bundle\n",
    "```"
   ]
  },
  {
   "cell_type": "markdown",
   "metadata": {},
   "source": [
    "---\n",
    "\n",
    "**First Lecture**: [Introduction to Notebooks](Lecture01-Introduction-to-Notebooks.ipynb) \n",
    "\n",
    "[Back to Introduction](Introduction.ipynb) "
   ]
  }
 ],
 "metadata": {
  "kernelspec": {
   "display_name": "Python 3.11",
   "language": "python",
   "name": "python3"
  },
  "language_info": {
   "codemirror_mode": {
    "name": "ipython",
    "version": 3
   },
   "file_extension": ".py",
   "mimetype": "text/x-python",
   "name": "python",
   "nbconvert_exporter": "python",
   "pygments_lexer": "ipython3",
   "version": "3.11.0"
  }
 },
 "nbformat": 4,
 "nbformat_minor": 4
}
